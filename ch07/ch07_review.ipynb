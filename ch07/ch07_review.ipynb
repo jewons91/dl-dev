{
 "cells": [
  {
   "cell_type": "markdown",
   "metadata": {},
   "source": [
    "# 7장 케라스 완전 정복"
   ]
  },
  {
   "cell_type": "markdown",
   "metadata": {},
   "source": [
    "### 7.1 다양한 워크플로"
   ]
  },
  {
   "cell_type": "markdown",
   "metadata": {},
   "source": [
    "### 7.2 케라스 모델을 만드는 여러 방법"
   ]
  },
  {
   "cell_type": "markdown",
   "metadata": {},
   "source": [
    "#### 7.2.1 Sequential 모델"
   ]
  },
  {
   "cell_type": "code",
   "execution_count": 2,
   "metadata": {},
   "outputs": [],
   "source": [
    "from tensorflow import keras\n",
    "from tensorflow.keras import layers\n",
    "\n",
    "model = keras.Sequential([\n",
    "    layers.Dense(64, activation='relu'),\n",
    "    layers.Dense(10, activation='softmax')\n",
    "])"
   ]
  },
  {
   "cell_type": "code",
   "execution_count": 3,
   "metadata": {},
   "outputs": [],
   "source": [
    "model = keras.Sequential()\n",
    "model.add(layers.Dense(64, activation='relu'))\n",
    "model.add(layers.Dense(10, activation='softmax'))"
   ]
  },
  {
   "cell_type": "code",
   "execution_count": 4,
   "metadata": {},
   "outputs": [
    {
     "ename": "ValueError",
     "evalue": "Weights for model sequential_1 have not yet been created. Weights are created when the Model is first called on inputs or `build()` is called with an `input_shape`.",
     "output_type": "error",
     "traceback": [
      "\u001b[1;31m---------------------------------------------------------------------------\u001b[0m",
      "\u001b[1;31mValueError\u001b[0m                                Traceback (most recent call last)",
      "Cell \u001b[1;32mIn[4], line 1\u001b[0m\n\u001b[1;32m----> 1\u001b[0m \u001b[43mmodel\u001b[49m\u001b[38;5;241;43m.\u001b[39;49m\u001b[43mweights\u001b[49m\n",
      "File \u001b[1;32mc:\\ProgramData\\anaconda3\\envs\\dl-dev\\lib\\site-packages\\keras\\engine\\training.py:3163\u001b[0m, in \u001b[0;36mModel.weights\u001b[1;34m(self)\u001b[0m\n\u001b[0;32m   3153\u001b[0m \u001b[38;5;129m@property\u001b[39m\n\u001b[0;32m   3154\u001b[0m \u001b[38;5;28;01mdef\u001b[39;00m \u001b[38;5;21mweights\u001b[39m(\u001b[38;5;28mself\u001b[39m):\n\u001b[0;32m   3155\u001b[0m \u001b[38;5;250m    \u001b[39m\u001b[38;5;124;03m\"\"\"Returns the list of all layer variables/weights.\u001b[39;00m\n\u001b[0;32m   3156\u001b[0m \n\u001b[0;32m   3157\u001b[0m \u001b[38;5;124;03m    Note: This will not track the weights of nested `tf.Modules` that are\u001b[39;00m\n\u001b[1;32m   (...)\u001b[0m\n\u001b[0;32m   3161\u001b[0m \u001b[38;5;124;03m      A list of variables.\u001b[39;00m\n\u001b[0;32m   3162\u001b[0m \u001b[38;5;124;03m    \"\"\"\u001b[39;00m\n\u001b[1;32m-> 3163\u001b[0m     \u001b[38;5;28;01mreturn\u001b[39;00m \u001b[38;5;28mself\u001b[39m\u001b[38;5;241m.\u001b[39m_dedup_weights(\u001b[38;5;28;43mself\u001b[39;49m\u001b[38;5;241;43m.\u001b[39;49m\u001b[43m_undeduplicated_weights\u001b[49m)\n",
      "File \u001b[1;32mc:\\ProgramData\\anaconda3\\envs\\dl-dev\\lib\\site-packages\\keras\\engine\\training.py:3168\u001b[0m, in \u001b[0;36mModel._undeduplicated_weights\u001b[1;34m(self)\u001b[0m\n\u001b[0;32m   3165\u001b[0m \u001b[38;5;129m@property\u001b[39m\n\u001b[0;32m   3166\u001b[0m \u001b[38;5;28;01mdef\u001b[39;00m \u001b[38;5;21m_undeduplicated_weights\u001b[39m(\u001b[38;5;28mself\u001b[39m):\n\u001b[0;32m   3167\u001b[0m \u001b[38;5;250m    \u001b[39m\u001b[38;5;124;03m\"\"\"Returns the undeduplicated list of all layer variables/weights.\"\"\"\u001b[39;00m\n\u001b[1;32m-> 3168\u001b[0m     \u001b[38;5;28;43mself\u001b[39;49m\u001b[38;5;241;43m.\u001b[39;49m\u001b[43m_assert_weights_created\u001b[49m\u001b[43m(\u001b[49m\u001b[43m)\u001b[49m\n\u001b[0;32m   3169\u001b[0m     weights \u001b[38;5;241m=\u001b[39m []\n\u001b[0;32m   3170\u001b[0m     \u001b[38;5;28;01mfor\u001b[39;00m layer \u001b[38;5;129;01min\u001b[39;00m \u001b[38;5;28mself\u001b[39m\u001b[38;5;241m.\u001b[39m_self_tracked_trackables:\n",
      "File \u001b[1;32mc:\\ProgramData\\anaconda3\\envs\\dl-dev\\lib\\site-packages\\keras\\engine\\sequential.py:511\u001b[0m, in \u001b[0;36mSequential._assert_weights_created\u001b[1;34m(self)\u001b[0m\n\u001b[0;32m    508\u001b[0m     \u001b[38;5;28;01mreturn\u001b[39;00m\n\u001b[0;32m    509\u001b[0m \u001b[38;5;66;03m# When the graph has not been initialized, use the Model's\u001b[39;00m\n\u001b[0;32m    510\u001b[0m \u001b[38;5;66;03m# implementation to to check if the weights has been created.\u001b[39;00m\n\u001b[1;32m--> 511\u001b[0m \u001b[38;5;28;43msuper\u001b[39;49m\u001b[43m(\u001b[49m\u001b[43mfunctional\u001b[49m\u001b[38;5;241;43m.\u001b[39;49m\u001b[43mFunctional\u001b[49m\u001b[43m,\u001b[49m\u001b[43m \u001b[49m\u001b[38;5;28;43mself\u001b[39;49m\u001b[43m)\u001b[49m\u001b[38;5;241;43m.\u001b[39;49m\u001b[43m_assert_weights_created\u001b[49m\u001b[43m(\u001b[49m\u001b[43m)\u001b[49m\n",
      "File \u001b[1;32mc:\\ProgramData\\anaconda3\\envs\\dl-dev\\lib\\site-packages\\keras\\engine\\training.py:3467\u001b[0m, in \u001b[0;36mModel._assert_weights_created\u001b[1;34m(self)\u001b[0m\n\u001b[0;32m   3456\u001b[0m     \u001b[38;5;28;01mreturn\u001b[39;00m\n\u001b[0;32m   3458\u001b[0m \u001b[38;5;28;01mif\u001b[39;00m (\n\u001b[0;32m   3459\u001b[0m     \u001b[38;5;124m\"\u001b[39m\u001b[38;5;124mbuild\u001b[39m\u001b[38;5;124m\"\u001b[39m \u001b[38;5;129;01min\u001b[39;00m \u001b[38;5;28mself\u001b[39m\u001b[38;5;241m.\u001b[39m\u001b[38;5;18m__class__\u001b[39m\u001b[38;5;241m.\u001b[39m\u001b[38;5;18m__dict__\u001b[39m\n\u001b[0;32m   3460\u001b[0m     \u001b[38;5;129;01mand\u001b[39;00m \u001b[38;5;28mself\u001b[39m\u001b[38;5;241m.\u001b[39m\u001b[38;5;18m__class__\u001b[39m \u001b[38;5;241m!=\u001b[39m Model\n\u001b[1;32m   (...)\u001b[0m\n\u001b[0;32m   3465\u001b[0m     \u001b[38;5;66;03m# Also make sure to exclude Model class itself which has build()\u001b[39;00m\n\u001b[0;32m   3466\u001b[0m     \u001b[38;5;66;03m# defined.\u001b[39;00m\n\u001b[1;32m-> 3467\u001b[0m     \u001b[38;5;28;01mraise\u001b[39;00m \u001b[38;5;167;01mValueError\u001b[39;00m(\n\u001b[0;32m   3468\u001b[0m         \u001b[38;5;124mf\u001b[39m\u001b[38;5;124m\"\u001b[39m\u001b[38;5;124mWeights for model \u001b[39m\u001b[38;5;132;01m{\u001b[39;00m\u001b[38;5;28mself\u001b[39m\u001b[38;5;241m.\u001b[39mname\u001b[38;5;132;01m}\u001b[39;00m\u001b[38;5;124m have not yet been \u001b[39m\u001b[38;5;124m\"\u001b[39m\n\u001b[0;32m   3469\u001b[0m         \u001b[38;5;124m\"\u001b[39m\u001b[38;5;124mcreated. \u001b[39m\u001b[38;5;124m\"\u001b[39m\n\u001b[0;32m   3470\u001b[0m         \u001b[38;5;124m\"\u001b[39m\u001b[38;5;124mWeights are created when the Model is first called on \u001b[39m\u001b[38;5;124m\"\u001b[39m\n\u001b[0;32m   3471\u001b[0m         \u001b[38;5;124m\"\u001b[39m\u001b[38;5;124minputs or `build()` is called with an `input_shape`.\u001b[39m\u001b[38;5;124m\"\u001b[39m\n\u001b[0;32m   3472\u001b[0m     )\n",
      "\u001b[1;31mValueError\u001b[0m: Weights for model sequential_1 have not yet been created. Weights are created when the Model is first called on inputs or `build()` is called with an `input_shape`."
     ]
    }
   ],
   "source": [
    "model.weights"
   ]
  },
  {
   "cell_type": "code",
   "execution_count": 5,
   "metadata": {},
   "outputs": [
    {
     "data": {
      "text/plain": [
       "[<tf.Variable 'dense_2/kernel:0' shape=(3, 64) dtype=float32, numpy=\n",
       " array([[-0.07504815,  0.14975998, -0.02269268,  0.0520032 , -0.02330056,\n",
       "         -0.25303024, -0.1126857 ,  0.18386596, -0.21484289,  0.03728989,\n",
       "         -0.2909464 , -0.17968422, -0.294511  , -0.06971629, -0.05113235,\n",
       "          0.23126793, -0.20298457,  0.255507  , -0.14215869, -0.12186497,\n",
       "          0.2764302 ,  0.25880504, -0.20325713,  0.09516627, -0.28292423,\n",
       "          0.01128903,  0.10603634,  0.1918678 ,  0.29291838, -0.20295846,\n",
       "          0.10565448,  0.03410542, -0.07862316,  0.02070153,  0.11045551,\n",
       "         -0.16921513,  0.00529176, -0.22835472,  0.2176711 , -0.10642411,\n",
       "         -0.09008819, -0.2131812 , -0.24404395,  0.21569586,  0.18913734,\n",
       "          0.17748031,  0.15104115, -0.06096731, -0.04589593,  0.21303988,\n",
       "          0.28871143, -0.13304149,  0.13490635,  0.18005073,  0.10909292,\n",
       "          0.20847529,  0.16823754,  0.20813167, -0.17730556,  0.17456004,\n",
       "         -0.09180373, -0.08232801,  0.18379033, -0.20803377],\n",
       "        [-0.27476364, -0.23522428, -0.19246462,  0.2575668 ,  0.25852162,\n",
       "          0.25143152, -0.15537329, -0.19665113, -0.0788945 , -0.2753876 ,\n",
       "          0.2311241 , -0.04371223,  0.27823234,  0.03006503, -0.22830863,\n",
       "         -0.18021397,  0.05405253, -0.118329  ,  0.22578734,  0.11821193,\n",
       "          0.18656966, -0.07712886, -0.2607574 , -0.29475722,  0.18629006,\n",
       "         -0.26975527,  0.11678383,  0.24770802,  0.258335  ,  0.02791026,\n",
       "         -0.04563418, -0.15905112, -0.18794197,  0.2734369 ,  0.23511088,\n",
       "          0.04145014,  0.02559361,  0.02777627,  0.08819121, -0.19666827,\n",
       "         -0.11348708, -0.14403205, -0.10132334, -0.04200417, -0.01443774,\n",
       "          0.16494462,  0.09965816, -0.02508047, -0.05847022,  0.26413113,\n",
       "         -0.09148267,  0.1374439 ,  0.04447791, -0.15280871, -0.2801773 ,\n",
       "         -0.09152676, -0.23233983, -0.25925606,  0.21232837,  0.22617328,\n",
       "          0.0753628 ,  0.15878263, -0.18430589,  0.01814243],\n",
       "        [ 0.28406632, -0.00641015, -0.2556581 , -0.0483565 , -0.19684485,\n",
       "          0.20815521,  0.11667717,  0.15160331, -0.06072886, -0.16026138,\n",
       "          0.03092811, -0.12026252, -0.2801299 ,  0.26505047,  0.24009782,\n",
       "          0.0917401 ,  0.20124668, -0.07139638,  0.169198  , -0.285648  ,\n",
       "          0.19637561, -0.05380423,  0.2495758 , -0.26205218,  0.2387175 ,\n",
       "         -0.06312777, -0.23437445,  0.28622925, -0.03468934,  0.25318247,\n",
       "          0.01954341, -0.04112929, -0.06743139,  0.24079394,  0.12373677,\n",
       "          0.20341921, -0.2601619 ,  0.23155838,  0.15532827, -0.15423203,\n",
       "         -0.05141795,  0.25444967,  0.0696834 ,  0.24591881,  0.19894132,\n",
       "         -0.24318607, -0.11104357, -0.08150302, -0.22585443,  0.24337173,\n",
       "          0.04130647, -0.18076207,  0.23186386,  0.08000559, -0.28339136,\n",
       "         -0.06178252, -0.00318623,  0.06832737, -0.01560161, -0.22359371,\n",
       "          0.04855165,  0.15071872, -0.18920596,  0.00406587]],\n",
       "       dtype=float32)>,\n",
       " <tf.Variable 'dense_2/bias:0' shape=(64,) dtype=float32, numpy=\n",
       " array([0., 0., 0., 0., 0., 0., 0., 0., 0., 0., 0., 0., 0., 0., 0., 0., 0.,\n",
       "        0., 0., 0., 0., 0., 0., 0., 0., 0., 0., 0., 0., 0., 0., 0., 0., 0.,\n",
       "        0., 0., 0., 0., 0., 0., 0., 0., 0., 0., 0., 0., 0., 0., 0., 0., 0.,\n",
       "        0., 0., 0., 0., 0., 0., 0., 0., 0., 0., 0., 0., 0.], dtype=float32)>,\n",
       " <tf.Variable 'dense_3/kernel:0' shape=(64, 10) dtype=float32, numpy=\n",
       " array([[-0.20719819, -0.0126766 ,  0.13808107, -0.04393074,  0.14450604,\n",
       "         -0.11659344,  0.13811135,  0.18625304, -0.04136854, -0.04357412],\n",
       "        [ 0.08487329,  0.0260483 ,  0.25528517,  0.19183931,  0.2651427 ,\n",
       "         -0.06589143,  0.17539862,  0.01862952, -0.17218277, -0.0708546 ],\n",
       "        [-0.06772621, -0.00666541, -0.00494865, -0.23892981, -0.056752  ,\n",
       "         -0.04635975, -0.17238148, -0.00039375,  0.19410142,  0.25173143],\n",
       "        [ 0.17563337, -0.15234816, -0.26255298,  0.06082359,  0.01785964,\n",
       "          0.06022072,  0.0212841 ,  0.2582936 , -0.2107904 , -0.06657535],\n",
       "        [-0.0242711 , -0.18545637, -0.13126276, -0.11937349,  0.18437767,\n",
       "          0.00500602,  0.02765822, -0.05555716,  0.00601688, -0.23377967],\n",
       "        [ 0.2644821 ,  0.24191692, -0.13488126,  0.03382361,  0.07391381,\n",
       "         -0.12424399,  0.02803355, -0.18145722, -0.2355987 , -0.15709938],\n",
       "        [ 0.19043821,  0.17617756, -0.25391138, -0.06238456,  0.01047611,\n",
       "          0.10332656, -0.14897686,  0.19118798, -0.05878589, -0.12960723],\n",
       "        [-0.2652352 , -0.02316383, -0.15558872, -0.04616396, -0.12650795,\n",
       "         -0.15849803,  0.19663337,  0.20578948,  0.12105504, -0.19113149],\n",
       "        [ 0.24072847,  0.23976931, -0.19034758, -0.21136916,  0.13475335,\n",
       "          0.23819354, -0.09098017,  0.00298759, -0.04745188,  0.25601706],\n",
       "        [-0.2787196 ,  0.09240013, -0.20891428,  0.045874  ,  0.07272366,\n",
       "         -0.10686302,  0.21351385, -0.2151393 , -0.20047933, -0.20250128],\n",
       "        [-0.12517087, -0.18017262, -0.16778547,  0.11268377, -0.17941085,\n",
       "         -0.18159701, -0.03396755, -0.27178425,  0.14629912, -0.12116732],\n",
       "        [ 0.2320362 ,  0.14407432,  0.24481466,  0.20046827, -0.11293197,\n",
       "         -0.24342054, -0.1143662 ,  0.21138638, -0.0830975 ,  0.17521992],\n",
       "        [ 0.13388076,  0.13187179, -0.0174098 ,  0.19511434, -0.25040177,\n",
       "         -0.11935136, -0.12817687, -0.02546993, -0.17482318, -0.11059822],\n",
       "        [-0.02261746,  0.2754539 , -0.00096008,  0.02650335,  0.22632083,\n",
       "          0.08389196, -0.18243876, -0.00963679,  0.17224047,  0.0185822 ],\n",
       "        [-0.04545587,  0.06351206,  0.23781243, -0.10804084, -0.1326896 ,\n",
       "          0.199987  , -0.08012512, -0.06948915, -0.11592107, -0.26713318],\n",
       "        [ 0.13805988,  0.19960153,  0.0098359 , -0.04918414,  0.10323977,\n",
       "          0.15897983, -0.10651164, -0.28459892, -0.1156271 ,  0.06870815],\n",
       "        [ 0.26197383, -0.14176962,  0.0858151 ,  0.25148252, -0.15786836,\n",
       "         -0.17334442,  0.2810649 , -0.08583894, -0.21954443,  0.20122558],\n",
       "        [-0.24113756,  0.14507595,  0.257557  ,  0.27590963, -0.26931262,\n",
       "         -0.05963607, -0.02774557,  0.19232762,  0.23227146,  0.07266113],\n",
       "        [ 0.2286379 ,  0.24070165,  0.01861355, -0.00304815, -0.1674465 ,\n",
       "          0.26898798,  0.00887901, -0.22555098, -0.04778475,  0.15479374],\n",
       "        [-0.25167584,  0.22151849, -0.1400377 , -0.21739478, -0.24687046,\n",
       "          0.01781741,  0.01152524, -0.1461063 ,  0.203071  , -0.17813087],\n",
       "        [ 0.2005836 , -0.03672874, -0.26428577, -0.10510863, -0.22404534,\n",
       "         -0.14198957,  0.10009938, -0.1446915 , -0.25930333,  0.09203172],\n",
       "        [ 0.00604409, -0.02202293, -0.2289032 , -0.04417305,  0.01150781,\n",
       "          0.16281551,  0.09433314,  0.20464405, -0.11336443, -0.23713367],\n",
       "        [-0.22762647, -0.2583498 , -0.09022227,  0.14633691, -0.05345435,\n",
       "         -0.09308264, -0.03291494,  0.22169408, -0.16132995, -0.25740066],\n",
       "        [-0.19877261,  0.15707642,  0.07348347, -0.02965185,  0.01262921,\n",
       "          0.27638438, -0.14937598, -0.28472322,  0.07547873,  0.11967438],\n",
       "        [ 0.224646  ,  0.00283566, -0.2654872 , -0.21112564, -0.09700377,\n",
       "          0.15732321,  0.03557786,  0.08064142,  0.11745149, -0.16656706],\n",
       "        [-0.1978189 , -0.2165634 , -0.05214654,  0.1595451 , -0.12127757,\n",
       "         -0.08215617, -0.10351013,  0.20582336,  0.25981805, -0.10206701],\n",
       "        [-0.04965861, -0.2386328 ,  0.21961692,  0.06301531, -0.21277873,\n",
       "          0.14598083,  0.1041916 , -0.09363715,  0.28282973,  0.2586368 ],\n",
       "        [ 0.14782268, -0.20913568, -0.04412457,  0.14580557,  0.12622207,\n",
       "         -0.01066339,  0.22973612, -0.02881294,  0.17147943, -0.26489303],\n",
       "        [ 0.10208479, -0.25683412,  0.02877688, -0.25096464, -0.06791833,\n",
       "         -0.264589  , -0.21734251,  0.01834667,  0.15260905, -0.15244266],\n",
       "        [-0.01713324,  0.2763495 , -0.22644643,  0.21787551,  0.16326168,\n",
       "         -0.25824562, -0.15214925, -0.10618895,  0.04643312,  0.17315188],\n",
       "        [ 0.23182353,  0.19151697, -0.14257784,  0.23629227,  0.16844255,\n",
       "          0.2828909 , -0.27574477, -0.20543687, -0.08337992, -0.04691739],\n",
       "        [-0.2643493 ,  0.0005582 ,  0.05826825,  0.07787412, -0.17514688,\n",
       "         -0.23067857,  0.11085594,  0.16553643,  0.27466038, -0.15068793],\n",
       "        [-0.05373114, -0.1360249 , -0.14851093,  0.01560241, -0.11645617,\n",
       "          0.06249616, -0.11852576,  0.02704808, -0.13689531, -0.23993328],\n",
       "        [ 0.1033859 , -0.23718044,  0.16922206, -0.02286682, -0.11995597,\n",
       "         -0.14017802, -0.09900866, -0.11745229, -0.13131647, -0.25209573],\n",
       "        [-0.28383633, -0.28112525, -0.05750062,  0.06016418,  0.147437  ,\n",
       "          0.12194017,  0.2366533 ,  0.08255339, -0.17832571, -0.04662865],\n",
       "        [-0.09483756, -0.2675959 , -0.25798723,  0.21448743,  0.25872847,\n",
       "          0.17898926,  0.21189108, -0.19269288, -0.06294553,  0.09098145],\n",
       "        [ 0.20992556, -0.1680896 , -0.09136735,  0.14111781, -0.00901696,\n",
       "          0.07481897, -0.06667195, -0.07207124,  0.20992428,  0.02484637],\n",
       "        [-0.03438053,  0.23977247,  0.1802803 ,  0.0210979 , -0.24483697,\n",
       "         -0.0286462 ,  0.08685783, -0.06504031,  0.11948332, -0.00102431],\n",
       "        [ 0.02414209, -0.04365315,  0.2334319 ,  0.13151714, -0.28285608,\n",
       "         -0.04849011, -0.00827962,  0.07147524,  0.15569645, -0.1378457 ],\n",
       "        [ 0.0078401 , -0.17383051,  0.09111968,  0.04017371,  0.26842538,\n",
       "          0.033629  , -0.02110174, -0.09817228, -0.01646385, -0.250814  ],\n",
       "        [-0.01718611,  0.14243716, -0.05611934,  0.15319902,  0.06508777,\n",
       "          0.23053345, -0.11710022, -0.1314365 ,  0.12179917,  0.10392052],\n",
       "        [ 0.07536867,  0.05184349, -0.22646314,  0.25700304,  0.00882444,\n",
       "          0.2740017 , -0.1290639 , -0.17191657, -0.2419117 ,  0.22298846],\n",
       "        [ 0.11814225,  0.24492571, -0.13855283,  0.04585668,  0.2515361 ,\n",
       "          0.07944977, -0.13482673, -0.03948109, -0.2562877 ,  0.00584403],\n",
       "        [-0.28297964,  0.27049097, -0.14809424, -0.22536314, -0.06228937,\n",
       "          0.10806438, -0.271871  ,  0.28418097, -0.03268185, -0.14789593],\n",
       "        [-0.10372974, -0.22979683,  0.06004795, -0.15757658,  0.11303246,\n",
       "          0.24389932, -0.12835895, -0.01986971, -0.05613652, -0.05954808],\n",
       "        [ 0.100153  , -0.03390175, -0.21279924, -0.05248633, -0.24133824,\n",
       "         -0.28127712,  0.02115485,  0.01927358,  0.05055317, -0.16545653],\n",
       "        [-0.04764733,  0.11944667,  0.1478436 ,  0.13345754,  0.08806494,\n",
       "         -0.03487122,  0.00644255,  0.2064789 ,  0.09763968, -0.0292367 ],\n",
       "        [-0.05084972,  0.10610083,  0.26949432, -0.08912192,  0.16459766,\n",
       "         -0.11632934,  0.21395934, -0.23393956,  0.03733513, -0.23745044],\n",
       "        [-0.18832862, -0.21218525, -0.16167217, -0.04056297, -0.28286612,\n",
       "         -0.18391937,  0.15724614,  0.25168642, -0.05740924, -0.22980925],\n",
       "        [ 0.18846181, -0.19177663,  0.14927366, -0.16156533,  0.2317644 ,\n",
       "         -0.2566065 ,  0.04789391, -0.05707474, -0.17495434, -0.09950976],\n",
       "        [-0.12889922,  0.14426956,  0.16276586, -0.14340928, -0.08051834,\n",
       "         -0.10218011,  0.091418  ,  0.1501992 ,  0.11320543,  0.23034444],\n",
       "        [-0.16751131,  0.03543523,  0.2724091 ,  0.24075314,  0.0295845 ,\n",
       "         -0.19430748, -0.21541399,  0.16368535,  0.06227967, -0.2384078 ],\n",
       "        [-0.00599793,  0.22310355,  0.02839488, -0.02165553, -0.17139497,\n",
       "         -0.24084075,  0.13956627, -0.02795535, -0.22544195, -0.25132588],\n",
       "        [-0.2158998 , -0.28314093, -0.2833854 , -0.14578335,  0.07941052,\n",
       "         -0.17763127,  0.19753152, -0.16448319, -0.18533362, -0.27181786],\n",
       "        [-0.0144698 ,  0.09754145, -0.22245802, -0.10049327, -0.28366593,\n",
       "         -0.21628222,  0.27110615, -0.18385127, -0.15728077, -0.05721065],\n",
       "        [-0.16713433, -0.24194638,  0.18032259,  0.17064855,  0.01424864,\n",
       "         -0.27194393,  0.13403136, -0.14461797, -0.27794152, -0.06982717],\n",
       "        [-0.14771588,  0.20423287,  0.22757074, -0.0587347 ,  0.18010828,\n",
       "         -0.259367  , -0.08461449, -0.10751551, -0.20862359, -0.02076414],\n",
       "        [ 0.03360122,  0.01860684, -0.1867849 , -0.0771213 , -0.02434236,\n",
       "         -0.13323224, -0.05341783,  0.1696507 ,  0.1212236 , -0.15280275],\n",
       "        [ 0.04853567, -0.06836198,  0.10278764, -0.2353025 ,  0.17138255,\n",
       "          0.09841695,  0.23431244, -0.11301099,  0.11644298,  0.00678891],\n",
       "        [ 0.27934536, -0.1547513 , -0.12367439, -0.17384109, -0.02664131,\n",
       "          0.03332892, -0.27971226,  0.22121653,  0.23297754, -0.16828682],\n",
       "        [ 0.14314866,  0.2782583 , -0.08244163,  0.22879282, -0.11848597,\n",
       "         -0.0169614 , -0.12677027,  0.25494954,  0.22218677, -0.12017262],\n",
       "        [-0.09663853,  0.17089185,  0.04400086,  0.09800017, -0.11330244,\n",
       "         -0.00578347,  0.00254354,  0.01636785,  0.09767202,  0.05967334],\n",
       "        [-0.12062074, -0.0833157 , -0.20892501, -0.2701406 , -0.1082591 ,\n",
       "         -0.10787539, -0.20730817, -0.17790969,  0.0729284 , -0.23172772],\n",
       "        [-0.0398481 ,  0.0473654 , -0.12468289,  0.14717564, -0.02001783,\n",
       "         -0.00335631, -0.16573623, -0.1004099 ,  0.05739972,  0.11417869]],\n",
       "       dtype=float32)>,\n",
       " <tf.Variable 'dense_3/bias:0' shape=(10,) dtype=float32, numpy=array([0., 0., 0., 0., 0., 0., 0., 0., 0., 0.], dtype=float32)>]"
      ]
     },
     "execution_count": 5,
     "metadata": {},
     "output_type": "execute_result"
    }
   ],
   "source": [
    "model.build(input_shape=(None, 3))\n",
    "model.weights"
   ]
  },
  {
   "cell_type": "code",
   "execution_count": 6,
   "metadata": {},
   "outputs": [
    {
     "name": "stdout",
     "output_type": "stream",
     "text": [
      "Model: \"sequential_1\"\n",
      "_________________________________________________________________\n",
      " Layer (type)                Output Shape              Param #   \n",
      "=================================================================\n",
      " dense_2 (Dense)             (None, 64)                256       \n",
      "                                                                 \n",
      " dense_3 (Dense)             (None, 10)                650       \n",
      "                                                                 \n",
      "=================================================================\n",
      "Total params: 906\n",
      "Trainable params: 906\n",
      "Non-trainable params: 0\n",
      "_________________________________________________________________\n"
     ]
    }
   ],
   "source": [
    "model.summary()"
   ]
  },
  {
   "cell_type": "code",
   "execution_count": 7,
   "metadata": {},
   "outputs": [
    {
     "name": "stdout",
     "output_type": "stream",
     "text": [
      "Model: \"my_example_model\"\n",
      "_________________________________________________________________\n",
      " Layer (type)                Output Shape              Param #   \n",
      "=================================================================\n",
      " my_first_layer (Dense)      (None, 64)                256       \n",
      "                                                                 \n",
      " my_last_layer (Dense)       (None, 10)                650       \n",
      "                                                                 \n",
      "=================================================================\n",
      "Total params: 906\n",
      "Trainable params: 906\n",
      "Non-trainable params: 0\n",
      "_________________________________________________________________\n"
     ]
    }
   ],
   "source": [
    "# name 매개변수로 모델과 층에 이름 지정하기\n",
    "model = keras.Sequential(name='my_example_model')\n",
    "model.add(layers.Dense(64, activation='relu', name='my_first_layer'))\n",
    "model.add(layers.Dense(10, activation='softmax', name='my_last_layer'))\n",
    "model.build((None, 3))\n",
    "model.summary()"
   ]
  },
  {
   "cell_type": "code",
   "execution_count": 8,
   "metadata": {},
   "outputs": [],
   "source": [
    "# 모델의 입력 크기를 미리 지정하기\n",
    "model = keras.Sequential()\n",
    "model.add(keras.Input(shape=(3,)))\n",
    "model.add(layers.Dense(64, activation='relu'))"
   ]
  },
  {
   "cell_type": "code",
   "execution_count": 9,
   "metadata": {},
   "outputs": [
    {
     "name": "stdout",
     "output_type": "stream",
     "text": [
      "Model: \"sequential_2\"\n",
      "_________________________________________________________________\n",
      " Layer (type)                Output Shape              Param #   \n",
      "=================================================================\n",
      " dense_4 (Dense)             (None, 64)                256       \n",
      "                                                                 \n",
      "=================================================================\n",
      "Total params: 256\n",
      "Trainable params: 256\n",
      "Non-trainable params: 0\n",
      "_________________________________________________________________\n"
     ]
    }
   ],
   "source": [
    "model.summary()"
   ]
  },
  {
   "cell_type": "code",
   "execution_count": 10,
   "metadata": {},
   "outputs": [
    {
     "name": "stdout",
     "output_type": "stream",
     "text": [
      "Model: \"sequential_2\"\n",
      "_________________________________________________________________\n",
      " Layer (type)                Output Shape              Param #   \n",
      "=================================================================\n",
      " dense_4 (Dense)             (None, 64)                256       \n",
      "                                                                 \n",
      " dense_5 (Dense)             (None, 10)                650       \n",
      "                                                                 \n",
      "=================================================================\n",
      "Total params: 906\n",
      "Trainable params: 906\n",
      "Non-trainable params: 0\n",
      "_________________________________________________________________\n"
     ]
    }
   ],
   "source": [
    "model.add(layers.Dense(10, activation='softmax'))\n",
    "model.summary()"
   ]
  },
  {
   "cell_type": "markdown",
   "metadata": {},
   "source": [
    "#### 7.2.2 함수형 API"
   ]
  },
  {
   "cell_type": "markdown",
   "metadata": {},
   "source": [
    "##### 간단한 예제"
   ]
  },
  {
   "cell_type": "code",
   "execution_count": 11,
   "metadata": {},
   "outputs": [],
   "source": [
    "# 2개의 Dense 층을 가진 간단한 함수형 모델\n",
    "inputs = keras.Input(shape=(3,), name='my_input')\n",
    "features = layers.Dense(64, activation='relu')(inputs)\n",
    "outputs = layers.Dense(10, activation='softmax')(features)\n",
    "model = keras.Model(inputs=inputs, outputs=outputs)"
   ]
  },
  {
   "cell_type": "code",
   "execution_count": 12,
   "metadata": {},
   "outputs": [
    {
     "data": {
      "text/plain": [
       "TensorShape([None, 3])"
      ]
     },
     "execution_count": 12,
     "metadata": {},
     "output_type": "execute_result"
    }
   ],
   "source": [
    "inputs.shape"
   ]
  },
  {
   "cell_type": "code",
   "execution_count": 13,
   "metadata": {},
   "outputs": [
    {
     "data": {
      "text/plain": [
       "tf.float32"
      ]
     },
     "execution_count": 13,
     "metadata": {},
     "output_type": "execute_result"
    }
   ],
   "source": [
    "inputs.dtype"
   ]
  },
  {
   "cell_type": "code",
   "execution_count": 14,
   "metadata": {},
   "outputs": [
    {
     "data": {
      "text/plain": [
       "TensorShape([None, 64])"
      ]
     },
     "execution_count": 14,
     "metadata": {},
     "output_type": "execute_result"
    }
   ],
   "source": [
    "features.shape"
   ]
  },
  {
   "cell_type": "code",
   "execution_count": 15,
   "metadata": {},
   "outputs": [
    {
     "name": "stdout",
     "output_type": "stream",
     "text": [
      "Model: \"model\"\n",
      "_________________________________________________________________\n",
      " Layer (type)                Output Shape              Param #   \n",
      "=================================================================\n",
      " my_input (InputLayer)       [(None, 3)]               0         \n",
      "                                                                 \n",
      " dense_6 (Dense)             (None, 64)                256       \n",
      "                                                                 \n",
      " dense_7 (Dense)             (None, 10)                650       \n",
      "                                                                 \n",
      "=================================================================\n",
      "Total params: 906\n",
      "Trainable params: 906\n",
      "Non-trainable params: 0\n",
      "_________________________________________________________________\n"
     ]
    }
   ],
   "source": [
    "model.summary()"
   ]
  },
  {
   "cell_type": "markdown",
   "metadata": {},
   "source": [
    "##### 다중 입력, 다중 출력 모델"
   ]
  },
  {
   "cell_type": "code",
   "execution_count": 16,
   "metadata": {},
   "outputs": [],
   "source": [
    "# 다중 입력, 다중 출력 함수형 모델\n",
    "vocabulary_size = 10000\n",
    "num_tags = 100\n",
    "num_departments = 4\n",
    "\n",
    "title = keras.Input(shape=(vocabulary_size,), name='title')\n",
    "text_body = keras.Input(shape=(vocabulary_size,), name='text_body')\n",
    "tags = keras.Input(shape=(num_tags,), name='tags')\n",
    "\n",
    "features = layers.Concatenate()([title, text_body, tags])\n",
    "features = layers.Dense(64, activation='relu')(features)\n",
    "\n",
    "priority = layers.Dense(1, activation='sigmoid', name='priority')(features)\n",
    "department = layers.Dense(num_departments, activation='softmax', name='department')(features)\n",
    "\n",
    "model = keras.Model(inputs=[title, text_body, tags], outputs=[priority, department])"
   ]
  },
  {
   "cell_type": "markdown",
   "metadata": {},
   "source": [
    "##### 다중 입력, 다중 출력 모델 훈련하기"
   ]
  },
  {
   "cell_type": "code",
   "execution_count": 17,
   "metadata": {},
   "outputs": [
    {
     "name": "stdout",
     "output_type": "stream",
     "text": [
      "40/40 [==============================] - 2s 11ms/step - loss: 33.9635 - priority_loss: 0.3251 - department_loss: 33.6384 - priority_mean_absolute_error: 0.4924 - department_accuracy: 0.2305\n",
      "40/40 [==============================] - 0s 4ms/step - loss: 19.3952 - priority_loss: 0.3309 - department_loss: 19.0644 - priority_mean_absolute_error: 0.4980 - department_accuracy: 0.2672\n",
      "40/40 [==============================] - 0s 3ms/step\n"
     ]
    }
   ],
   "source": [
    "# 입력과 타깃 배열 리스트를 전달하여 모델 훈련하기\n",
    "import numpy as np\n",
    "\n",
    "num_samples = 1280\n",
    "\n",
    "title_data = np.random.randint(0, 2, size=(num_samples, vocabulary_size))\n",
    "text_body_data = np.random.randint(0, 2, size=(num_samples, vocabulary_size))\n",
    "tags_data = np.random.randint(0, 2, size=(num_samples, num_tags))\n",
    "\n",
    "priority_data = np.random.random(size=(num_samples, 1))\n",
    "department_data = np.random.randint(0, 2, size=(num_samples, num_departments))\n",
    "\n",
    "model.compile(\n",
    "    optimizer='rmsprop',\n",
    "    loss=['mean_squared_error', 'categorical_crossentropy'],\n",
    "    metrics=[['mean_absolute_error'], ['accuracy']]\n",
    ")\n",
    "model.fit(\n",
    "    [title_data, text_body_data, tags_data],\n",
    "    [priority_data, department_data],\n",
    "    epochs=1\n",
    ")\n",
    "model.evaluate(\n",
    "    [title_data, text_body_data, tags_data],\n",
    "    [priority_data, department_data]\n",
    ")\n",
    "priority_preds, departments_preds = model.predict(\n",
    "    [title_data, text_body_data, tags_data]\n",
    ")"
   ]
  },
  {
   "cell_type": "code",
   "execution_count": 18,
   "metadata": {},
   "outputs": [
    {
     "name": "stdout",
     "output_type": "stream",
     "text": [
      "40/40 [==============================] - 1s 7ms/step - loss: 42.7739 - priority_loss: 0.3309 - department_loss: 42.4431 - priority_mean_absolute_error: 0.4980 - department_accuracy: 0.2617\n",
      "40/40 [==============================] - 0s 5ms/step - loss: 56.1226 - priority_loss: 0.3309 - department_loss: 55.7917 - priority_mean_absolute_error: 0.4980 - department_accuracy: 0.0664\n",
      "40/40 [==============================] - 0s 3ms/step\n"
     ]
    }
   ],
   "source": [
    "# 입력과 타깃 배열을 딕셔너리로 전달하여 모델 훈련하기\n",
    "model.compile(\n",
    "    optimizer='rmsprop',\n",
    "    loss={'priority': 'mean_squared_error',\n",
    "          'department': 'categorical_crossentropy'},\n",
    "    metrics={'priority': ['mean_absolute_error'],\n",
    "             'department': ['accuracy']}\n",
    ")\n",
    "model.fit(\n",
    "    {'title': title_data,\n",
    "     'text_body': text_body_data,\n",
    "     'tags': tags_data},\n",
    "    {'priority': priority_data,\n",
    "     'department': department_data},\n",
    "    epochs=1\n",
    ")\n",
    "model.evaluate(\n",
    "    {'title': title_data,\n",
    "     'text_body': text_body_data,\n",
    "     'tags': tags_data},\n",
    "    {'priority': priority_data,\n",
    "     'department': department_data}\n",
    ")\n",
    "priority_preds, departments_preds = model.predict(\n",
    "    {'title': title_data,\n",
    "     'text_body': text_body_data,\n",
    "     'tags': tags_data}\n",
    ")"
   ]
  },
  {
   "cell_type": "markdown",
   "metadata": {},
   "source": [
    "##### 함수형 API의 장점: 층 연결 구조 재활용하기"
   ]
  },
  {
   "cell_type": "code",
   "execution_count": 19,
   "metadata": {},
   "outputs": [
    {
     "data": {
      "image/png": "[encoded data removed]",
      "text/plain": [
       "<IPython.core.display.Image object>"
      ]
     },
     "execution_count": 19,
     "metadata": {},
     "output_type": "execute_result"
    }
   ],
   "source": [
    "keras.utils.plot_model(model, 'ticket_classifier.png')"
   ]
  },
  {
   "cell_type": "code",
   "execution_count": 20,
   "metadata": {},
   "outputs": [
    {
     "data": {
      "image/png": "[encoded data removed]",
      "text/plain": [
       "<IPython.core.display.Image object>"
      ]
     },
     "execution_count": 20,
     "metadata": {},
     "output_type": "execute_result"
    }
   ],
   "source": [
    "keras.utils.plot_model(\n",
    "    model, 'ticket_classifier_with_shape_info.png', show_shapes=True\n",
    ")"
   ]
  },
  {
   "cell_type": "code",
   "execution_count": 21,
   "metadata": {},
   "outputs": [
    {
     "data": {
      "text/plain": [
       "[<keras.engine.input_layer.InputLayer at 0x2460d57bc40>,\n",
       " <keras.engine.input_layer.InputLayer at 0x2460d57b9a0>,\n",
       " <keras.engine.input_layer.InputLayer at 0x2460d57bd30>,\n",
       " <keras.layers.merging.concatenate.Concatenate at 0x2460d57bfd0>,\n",
       " <keras.layers.core.dense.Dense at 0x2460d5862e0>,\n",
       " <keras.layers.core.dense.Dense at 0x2461e605d00>,\n",
       " <keras.layers.core.dense.Dense at 0x2461e6483a0>]"
      ]
     },
     "execution_count": 21,
     "metadata": {},
     "output_type": "execute_result"
    }
   ],
   "source": [
    "# 함수형 모델에 있는 층의 입력과 출력을 출력하기\n",
    "model.layers"
   ]
  },
  {
   "cell_type": "code",
   "execution_count": 22,
   "metadata": {},
   "outputs": [
    {
     "data": {
      "text/plain": [
       "[<KerasTensor: shape=(None, 10000) dtype=float32 (created by layer 'title')>,\n",
       " <KerasTensor: shape=(None, 10000) dtype=float32 (created by layer 'text_body')>,\n",
       " <KerasTensor: shape=(None, 100) dtype=float32 (created by layer 'tags')>]"
      ]
     },
     "execution_count": 22,
     "metadata": {},
     "output_type": "execute_result"
    }
   ],
   "source": [
    "model.layers[3].input"
   ]
  },
  {
   "cell_type": "code",
   "execution_count": 23,
   "metadata": {},
   "outputs": [
    {
     "data": {
      "text/plain": [
       "<KerasTensor: shape=(None, 20100) dtype=float32 (created by layer 'concatenate')>"
      ]
     },
     "execution_count": 23,
     "metadata": {},
     "output_type": "execute_result"
    }
   ],
   "source": [
    "model.layers[3].output"
   ]
  },
  {
   "cell_type": "code",
   "execution_count": 24,
   "metadata": {},
   "outputs": [],
   "source": [
    "# 중간층의 출력을 재사용해서 새로운 모델 만들기\n",
    "features = model.layers[4].output\n",
    "difficulty = layers.Dense(3, activation='softmax', name='difficulty')(features)\n",
    "new_model = keras.Model(\n",
    "    inputs=[title, text_body, tags],\n",
    "    outputs=[priority, department, difficulty]\n",
    ")"
   ]
  },
  {
   "cell_type": "code",
   "execution_count": 25,
   "metadata": {},
   "outputs": [
    {
     "data": {
      "image/png": "[encoded data removed]",
      "text/plain": [
       "<IPython.core.display.Image object>"
      ]
     },
     "execution_count": 25,
     "metadata": {},
     "output_type": "execute_result"
    }
   ],
   "source": [
    "keras.utils.plot_model(\n",
    "    new_model, 'updated_ticket_classifier.png', show_shapes=True\n",
    ")"
   ]
  },
  {
   "cell_type": "markdown",
   "metadata": {},
   "source": [
    "#### 7.2.3 Model 서브클래싱"
   ]
  },
  {
   "cell_type": "markdown",
   "metadata": {},
   "source": [
    "##### 이전 예제를 서브클래싱 모델로 다시 만들기"
   ]
  },
  {
   "cell_type": "code",
   "execution_count": 34,
   "metadata": {},
   "outputs": [],
   "source": [
    "# 간단한 서브클래싱 모델\n",
    "class CustomerTicketModel(keras.Model):\n",
    "    def __init__(self, num_departments):\n",
    "        super().__init__()\n",
    "        self.concat_layer = layers.Concatenate()\n",
    "        self.mixing_layer = layers.Dense(64, activation='relu')\n",
    "        self.priority_scorer = layers.Dense(1, activation='sigmoid')\n",
    "        self.department_classifier = layers.Dense(num_departments, activation='softmax')\n",
    "    def call(self, inputs):\n",
    "        title = inputs['title']\n",
    "        text_body = inputs['text_body']\n",
    "        tags = inputs['tags']\n",
    "        features = self.concat_layer([title, text_body, tags])\n",
    "        features = self.mixing_layer(features)\n",
    "        priority = self.priority_scorer(features)\n",
    "        department = self.department_classifier(features)\n",
    "        return priority, department"
   ]
  },
  {
   "cell_type": "code",
   "execution_count": 35,
   "metadata": {},
   "outputs": [],
   "source": [
    "model = CustomerTicketModel(num_departments=4)\n",
    "priority, department = model(\n",
    "    {'title': title_data, 'text_body': text_body_data, 'tags': tags_data}\n",
    ")"
   ]
  },
  {
   "cell_type": "code",
   "execution_count": 37,
   "metadata": {},
   "outputs": [
    {
     "name": "stdout",
     "output_type": "stream",
     "text": [
      "40/40 [==============================] - 1s 7ms/step - loss: 36.9337 - output_1_loss: 0.3355 - output_2_loss: 36.5982 - output_1_mean_absolute_error: 0.5026 - output_2_accuracy: 0.2531\n",
      "40/40 [==============================] - 0s 4ms/step - loss: 20.7766 - output_1_loss: 0.3349 - output_2_loss: 20.4417 - output_1_mean_absolute_error: 0.5020 - output_2_accuracy: 0.1547\n",
      "40/40 [==============================] - 0s 3ms/step\n"
     ]
    }
   ],
   "source": [
    "model.compile(\n",
    "    optimizer='rmsprop',\n",
    "    loss=['mean_squared_error', 'categorical_crossentropy'],\n",
    "    metrics=[['mean_absolute_error'], ['accuracy']]\n",
    ")\n",
    "model.fit(\n",
    "    {'title': title_data,\n",
    "     'text_body': text_body_data,\n",
    "     'tags': tags_data},\n",
    "    [priority_data, department_data],\n",
    "    epochs=1\n",
    ")\n",
    "model.evaluate(\n",
    "    {'title': title_data,\n",
    "    'text_body': text_body_data,\n",
    "    'tags': tags_data},\n",
    "    [priority_data, department_data]\n",
    ")\n",
    "priority_preds, department_preds = model.predict(\n",
    "    {'title': title_data,\n",
    "     'text_body': text_body_data,\n",
    "     'tags': tags_data}\n",
    ")"
   ]
  },
  {
   "cell_type": "markdown",
   "metadata": {},
   "source": [
    "##### 주의: 서브클래싱된 모델이 지원하지 않는 것"
   ]
  },
  {
   "cell_type": "markdown",
   "metadata": {},
   "source": [
    "#### 7.2.4 여러 방식을 혼합하여 사용하기"
   ]
  },
  {
   "cell_type": "code",
   "execution_count": 41,
   "metadata": {},
   "outputs": [],
   "source": [
    "# 서브클래싱한 모델을 포함하는 함수형 모델 만들기\n",
    "class Classifier(keras.Model):\n",
    "    def __init__(self, num_classes=2):\n",
    "        super().__init__()\n",
    "        if num_classes == 2:\n",
    "            num_units = 1\n",
    "            activation = 'sigmoid'\n",
    "        else:\n",
    "            num_units = num_classes\n",
    "            activation = 'softmax'\n",
    "        self.dense = layers.Dense(num_units, activation=activation)\n",
    "    def call(self, inputs):\n",
    "        return self.dense(inputs)\n",
    "\n",
    "inputs = keras.Input(shape=(3,))\n",
    "features = layers.Dense(64, activation='relu')(inputs)\n",
    "outputs = Classifier(num_classes=10)(features)\n",
    "model = keras.Model(inputs=inputs, outputs=outputs)"
   ]
  },
  {
   "cell_type": "code",
   "execution_count": 44,
   "metadata": {},
   "outputs": [],
   "source": [
    "# 함수형 모델을 포함하는 서브클래싱 모델 만들기\n",
    "inputs = keras.Input(shape=(64,))\n",
    "outputs = layers.Dense(1, activation='sigmoid')(inputs)\n",
    "binary_classifier = keras.Model(inputs=inputs, outputs=outputs)\n",
    "\n",
    "class MyModel(keras.Model):\n",
    "    def __init__(self, num_classes=2):\n",
    "        super().__init__()\n",
    "        self.dense = layers.Dense(64, activation='relu')\n",
    "        self.classifier = binary_classifier\n",
    "    def call(self, inputs):\n",
    "        features = self.dense(inputs)\n",
    "        return self.classifier(features)\n",
    "\n",
    "model = MyModel()"
   ]
  },
  {
   "cell_type": "markdown",
   "metadata": {},
   "source": [
    "#### 7.2.5 작업에 적합한 도구 사용하기"
   ]
  },
  {
   "cell_type": "code",
   "execution_count": 46,
   "metadata": {},
   "outputs": [
    {
     "name": "stdout",
     "output_type": "stream",
     "text": [
      "Epoch 1/3\n",
      "1563/1563 [==============================] - 9s 5ms/step - loss: 0.2937 - accuracy: 0.9142 - val_loss: 0.1451 - val_accuracy: 0.9599\n",
      "Epoch 2/3\n",
      "1563/1563 [==============================] - 8s 5ms/step - loss: 0.1644 - accuracy: 0.9538 - val_loss: 0.1319 - val_accuracy: 0.9640\n",
      "Epoch 3/3\n",
      "1563/1563 [==============================] - 8s 5ms/step - loss: 0.1392 - accuracy: 0.9629 - val_loss: 0.1317 - val_accuracy: 0.9669\n",
      "313/313 [==============================] - 1s 3ms/step - loss: 0.1187 - accuracy: 0.9696\n",
      "313/313 [==============================] - 1s 2ms/step\n"
     ]
    }
   ],
   "source": [
    "# 표준 워크플로: compile(), fit(), evaluate(), predict()\n",
    "from tensorflow.keras.datasets import mnist\n",
    "\n",
    "def get_mnist_model():\n",
    "    inputs = keras.Input(shape=(28 * 28,))\n",
    "    features = layers.Dense(512, activation='relu')(inputs)\n",
    "    features = layers.Dropout(0.5)(features)\n",
    "    outputs = layers.Dense(10, activation='softmax')(features)\n",
    "    model = keras.Model(inputs, outputs)\n",
    "    return model\n",
    "\n",
    "(images, labels), (test_images, test_labels) = mnist.load_data()\n",
    "images = images.reshape((60000, 28 * 28)).astype('float32') / 255\n",
    "test_images = test_images.reshape((10000, 28 * 28)).astype('float') / 255\n",
    "train_images, val_images = images[10000:], images[:10000]\n",
    "train_labels, val_labels = labels[10000:], labels[:10000]\n",
    "\n",
    "model = get_mnist_model()\n",
    "model.compile(optimizer='rmsprop',\n",
    "              loss='sparse_categorical_crossentropy',\n",
    "              metrics=['accuracy'])\n",
    "model.fit(train_images, train_labels,\n",
    "          epochs=3,\n",
    "          validation_data=(val_images, val_labels))\n",
    "test_metrics = model.evaluate(test_images, test_labels)\n",
    "predictions = model.predict(test_images)"
   ]
  },
  {
   "cell_type": "markdown",
   "metadata": {},
   "source": [
    "#### 7.3.1 사용자 정의 평가 지표 만들기"
   ]
  },
  {
   "cell_type": "code",
   "execution_count": 53,
   "metadata": {},
   "outputs": [],
   "source": [
    "# Metric 클래스를 상속하여 사용자 정의 지표 구하기\n",
    "import tensorflow as tf\n",
    "\n",
    "class RootMeanSquaredError(keras.metrics.Metric):\n",
    "    def __init__(self, name='rmse', **kwargs):\n",
    "        super().__init__(name=name, **kwargs)\n",
    "        self.mse_sum = self.add_weight(name='mse_sum', initializer='zeros')\n",
    "        self.total_samples = self.add_weight(name='total_samples', initializer='zeros',\n",
    "                                             dtype='int32')\n",
    "    \n",
    "    def update_state(self, y_true, y_pred, sample_weight=None):\n",
    "        y_true = tf.one_hot(y_true, depth=tf.shape(y_pred)[1])\n",
    "        mse = tf.reduce_sum(tf.square(y_true - y_pred))\n",
    "        self.mse_sum.assign_add(mse)\n",
    "        num_samples = tf.shape(y_pred)[0]\n",
    "        self.total_samples.assign_add(num_samples)\n",
    "    \n",
    "    def result(self):\n",
    "        return tf.sqrt(self.mse_sum / tf.cast(self.total_samples, tf.float32))\n",
    "    \n",
    "    def reset_state(self):\n",
    "        self.mse_sum.assign(0.)\n",
    "        self.total_samples.assign(0)"
   ]
  },
  {
   "cell_type": "code",
   "execution_count": 54,
   "metadata": {},
   "outputs": [
    {
     "name": "stdout",
     "output_type": "stream",
     "text": [
      "Epoch 1/3\n",
      "1563/1563 [==============================] - 10s 6ms/step - loss: 0.2930 - accuracy: 0.9124 - rmse: 7.1814 - val_loss: 0.1495 - val_accuracy: 0.9566 - val_rmse: 7.3557\n",
      "Epoch 2/3\n",
      "1563/1563 [==============================] - 9s 6ms/step - loss: 0.1680 - accuracy: 0.9530 - rmse: 7.3549 - val_loss: 0.1341 - val_accuracy: 0.9639 - val_rmse: 7.3995\n",
      "Epoch 3/3\n",
      "1563/1563 [==============================] - 9s 6ms/step - loss: 0.1366 - accuracy: 0.9625 - rmse: 7.3871 - val_loss: 0.1140 - val_accuracy: 0.9704 - val_rmse: 7.4188\n",
      "313/313 [==============================] - 1s 4ms/step - loss: 0.1030 - accuracy: 0.9724 - rmse: 7.4315\n"
     ]
    }
   ],
   "source": [
    "model = get_mnist_model()\n",
    "model.compile(optimizer='rmsprop',\n",
    "              loss='sparse_categorical_crossentropy',\n",
    "              metrics=['accuracy', RootMeanSquaredError()])\n",
    "model.fit(train_images, train_labels,\n",
    "          epochs=3,\n",
    "          validation_data=(val_images, val_labels))\n",
    "test_metrics = model.evaluate(test_images, test_labels)"
   ]
  },
  {
   "cell_type": "markdown",
   "metadata": {},
   "source": [
    "#### 7.3.2 콜백 사용하기"
   ]
  },
  {
   "cell_type": "markdown",
   "metadata": {},
   "source": [
    "##### ModelCheckpoint와 EarlyStopping 콜백"
   ]
  },
  {
   "cell_type": "code",
   "execution_count": 57,
   "metadata": {},
   "outputs": [
    {
     "name": "stdout",
     "output_type": "stream",
     "text": [
      "Epoch 1/10\n",
      "1563/1563 [==============================] - 9s 6ms/step - loss: 0.2897 - accuracy: 0.9145 - val_loss: 0.1398 - val_accuracy: 0.9609\n",
      "Epoch 2/10\n",
      "1563/1563 [==============================] - 9s 6ms/step - loss: 0.1650 - accuracy: 0.9538 - val_loss: 0.1210 - val_accuracy: 0.9674\n",
      "Epoch 3/10\n",
      "1563/1563 [==============================] - 9s 6ms/step - loss: 0.1404 - accuracy: 0.9615 - val_loss: 0.1101 - val_accuracy: 0.9728\n",
      "Epoch 4/10\n",
      "1563/1563 [==============================] - 9s 6ms/step - loss: 0.1235 - accuracy: 0.9679 - val_loss: 0.1128 - val_accuracy: 0.9742\n",
      "Epoch 5/10\n",
      "1563/1563 [==============================] - 9s 6ms/step - loss: 0.1154 - accuracy: 0.9706 - val_loss: 0.1108 - val_accuracy: 0.9750\n",
      "Epoch 6/10\n",
      "1563/1563 [==============================] - 8s 5ms/step - loss: 0.1115 - accuracy: 0.9726 - val_loss: 0.1088 - val_accuracy: 0.9789\n",
      "Epoch 7/10\n",
      "1563/1563 [==============================] - 8s 5ms/step - loss: 0.1028 - accuracy: 0.9754 - val_loss: 0.1106 - val_accuracy: 0.9780\n",
      "Epoch 8/10\n",
      "1563/1563 [==============================] - 8s 5ms/step - loss: 0.1020 - accuracy: 0.9764 - val_loss: 0.1284 - val_accuracy: 0.9737\n"
     ]
    },
    {
     "data": {
      "text/plain": [
       "<keras.callbacks.History at 0x2478fd3d400>"
      ]
     },
     "execution_count": 57,
     "metadata": {},
     "output_type": "execute_result"
    }
   ],
   "source": [
    "# fit() 메서드에서 callbacks 매개변수 사용하기\n",
    "callbacks_list = [\n",
    "    keras.callbacks.EarlyStopping(\n",
    "        monitor='val_accuracy',\n",
    "        patience=2\n",
    "    ),\n",
    "    keras.callbacks.ModelCheckpoint(\n",
    "        filepath='checkpoint_path.keras',\n",
    "        monitor='val_loss',\n",
    "        save_best_only=True\n",
    "    )\n",
    "]\n",
    "model = get_mnist_model()\n",
    "model.compile(optimizer='rmsprop',\n",
    "              loss='sparse_categorical_crossentropy',\n",
    "              metrics=['accuracy'])\n",
    "model.fit(train_images, train_labels,\n",
    "          epochs=10,\n",
    "          callbacks=callbacks_list,\n",
    "          validation_data=(val_images, val_labels))"
   ]
  },
  {
   "cell_type": "code",
   "execution_count": 58,
   "metadata": {},
   "outputs": [],
   "source": [
    "model = keras.models.load_model('checkpoint_path.keras')"
   ]
  },
  {
   "cell_type": "markdown",
   "metadata": {},
   "source": [
    "#### 7.3.3 사용자 정의 콜백 만들기"
   ]
  },
  {
   "cell_type": "code",
   "execution_count": 59,
   "metadata": {},
   "outputs": [],
   "source": [
    "# Callback 클래스를 상속하여 사용자 정의 콜백 만들기\n",
    "from matplotlib import pyplot as plt\n",
    "\n",
    "class LossHistory(keras.callbacks.Callback):\n",
    "    def on_train_begin(self, logs):\n",
    "        self.per_batch_losses = []\n",
    "    def on_batch_end(self, batch, logs):\n",
    "        self.per_batch_losses.append(logs.get('loss'))\n",
    "    def on_epoch_end(self, epoch, logs):\n",
    "        plt.clf()\n",
    "        plt.plot(range(len(self.per_batch_losses)), self.per_batch_losses,\n",
    "                 label='Training loss for each batch')\n",
    "        plt.xlabel(f'Batch (epoch {epoch})')\n",
    "        plt.ylabel('Loss')\n",
    "        plt.legend()\n",
    "        plt.savefig(f'plot_at_epoch_{epoch}')\n",
    "        self.per_batch_losses = []"
   ]
  },
  {
   "cell_type": "code",
   "execution_count": 60,
   "metadata": {},
   "outputs": [
    {
     "name": "stdout",
     "output_type": "stream",
     "text": [
      "Epoch 1/10\n",
      "   4/1563 [..............................] - ETA: 30s - loss: 2.0086 - accuracy: 0.3359  WARNING:tensorflow:Callback method `on_train_batch_end` is slow compared to the batch time (batch time: 0.0071s vs `on_train_batch_end` time: 0.0083s). Check your callbacks.\n",
      "1563/1563 [==============================] - 9s 6ms/step - loss: 0.2937 - accuracy: 0.9129 - val_loss: 0.1572 - val_accuracy: 0.9554\n",
      "Epoch 2/10\n",
      "1563/1563 [==============================] - 9s 6ms/step - loss: 0.1651 - accuracy: 0.9539 - val_loss: 0.1226 - val_accuracy: 0.9656\n",
      "Epoch 3/10\n",
      "1563/1563 [==============================] - 9s 6ms/step - loss: 0.1385 - accuracy: 0.9634 - val_loss: 0.1105 - val_accuracy: 0.9702\n",
      "Epoch 4/10\n",
      "1563/1563 [==============================] - 9s 6ms/step - loss: 0.1261 - accuracy: 0.9679 - val_loss: 0.1208 - val_accuracy: 0.9722\n",
      "Epoch 5/10\n",
      "1563/1563 [==============================] - 9s 6ms/step - loss: 0.1198 - accuracy: 0.9705 - val_loss: 0.1078 - val_accuracy: 0.9754\n",
      "Epoch 6/10\n",
      "1563/1563 [==============================] - 9s 6ms/step - loss: 0.1119 - accuracy: 0.9726 - val_loss: 0.1066 - val_accuracy: 0.9774\n",
      "Epoch 7/10\n",
      "1563/1563 [==============================] - 8s 5ms/step - loss: 0.1042 - accuracy: 0.9754 - val_loss: 0.1257 - val_accuracy: 0.9756\n",
      "Epoch 8/10\n",
      "1563/1563 [==============================] - 9s 6ms/step - loss: 0.1031 - accuracy: 0.9760 - val_loss: 0.1184 - val_accuracy: 0.9773\n",
      "Epoch 9/10\n",
      "1563/1563 [==============================] - 9s 6ms/step - loss: 0.0963 - accuracy: 0.9790 - val_loss: 0.1206 - val_accuracy: 0.9761\n",
      "Epoch 10/10\n",
      "1563/1563 [==============================] - 9s 6ms/step - loss: 0.0952 - accuracy: 0.9788 - val_loss: 0.1243 - val_accuracy: 0.9763\n"
     ]
    },
    {
     "data": {
      "text/plain": [
       "<keras.callbacks.History at 0x24617cda610>"
      ]
     },
     "execution_count": 60,
     "metadata": {},
     "output_type": "execute_result"
    },
    {
     "data": {
      "image/png": "[encoded data removed]",
      "text/plain": [
       "<Figure size 640x480 with 1 Axes>"
      ]
     },
     "metadata": {},
     "output_type": "display_data"
    }
   ],
   "source": [
    "model = get_mnist_model()\n",
    "model.compile(optimizer='rmsprop',\n",
    "              loss='sparse_categorical_crossentropy',\n",
    "              metrics=['accuracy'])\n",
    "model.fit(train_images, train_labels,\n",
    "          epochs=10,\n",
    "          callbacks=[LossHistory()],\n",
    "          validation_data=(val_images, val_labels))"
   ]
  },
  {
   "cell_type": "markdown",
   "metadata": {},
   "source": [
    "#### 7.3.4 텐서보드를 사용한 모니터링과 시각화"
   ]
  },
  {
   "cell_type": "code",
   "execution_count": 64,
   "metadata": {},
   "outputs": [
    {
     "name": "stdout",
     "output_type": "stream",
     "text": [
      "Epoch 1/10\n",
      "1563/1563 [==============================] - 9s 6ms/step - loss: 0.2950 - accuracy: 0.9120 - val_loss: 0.1575 - val_accuracy: 0.9543\n",
      "Epoch 2/10\n",
      "1563/1563 [==============================] - 9s 6ms/step - loss: 0.1679 - accuracy: 0.9541 - val_loss: 0.1286 - val_accuracy: 0.9646\n",
      "Epoch 3/10\n",
      "1563/1563 [==============================] - 9s 6ms/step - loss: 0.1432 - accuracy: 0.9611 - val_loss: 0.1037 - val_accuracy: 0.9740\n",
      "Epoch 4/10\n",
      "1563/1563 [==============================] - 8s 5ms/step - loss: 0.1255 - accuracy: 0.9674 - val_loss: 0.1136 - val_accuracy: 0.9725\n",
      "Epoch 5/10\n",
      "1563/1563 [==============================] - 8s 5ms/step - loss: 0.1161 - accuracy: 0.9705 - val_loss: 0.1036 - val_accuracy: 0.9749\n",
      "Epoch 6/10\n",
      "1563/1563 [==============================] - 8s 5ms/step - loss: 0.1121 - accuracy: 0.9727 - val_loss: 0.1028 - val_accuracy: 0.9766\n",
      "Epoch 7/10\n",
      "1563/1563 [==============================] - 8s 5ms/step - loss: 0.1045 - accuracy: 0.9753 - val_loss: 0.1085 - val_accuracy: 0.9768\n",
      "Epoch 8/10\n",
      "1563/1563 [==============================] - 8s 5ms/step - loss: 0.1007 - accuracy: 0.9759 - val_loss: 0.1109 - val_accuracy: 0.9768\n",
      "Epoch 9/10\n",
      "1563/1563 [==============================] - 9s 5ms/step - loss: 0.0977 - accuracy: 0.9770 - val_loss: 0.1060 - val_accuracy: 0.9780\n",
      "Epoch 10/10\n",
      "1563/1563 [==============================] - 9s 6ms/step - loss: 0.0928 - accuracy: 0.9790 - val_loss: 0.1159 - val_accuracy: 0.9781\n"
     ]
    },
    {
     "data": {
      "text/plain": [
       "<keras.callbacks.History at 0x247b1d3a8b0>"
      ]
     },
     "execution_count": 64,
     "metadata": {},
     "output_type": "execute_result"
    }
   ],
   "source": [
    "model = get_mnist_model()\n",
    "model.compile(optimizer='rmsprop',\n",
    "              loss='sparse_categorical_crossentropy',\n",
    "              metrics=['accuracy'])\n",
    "tensorboard = keras.callbacks.TensorBoard(\n",
    "    log_dir='/full_path_to_your_log_dir'\n",
    ")\n",
    "model.fit(train_images, train_labels,\n",
    "          epochs=10,\n",
    "          validation_data=(val_images, val_labels),\n",
    "          callbacks=[tensorboard])"
   ]
  },
  {
   "cell_type": "code",
   "execution_count": 65,
   "metadata": {},
   "outputs": [
    {
     "name": "stdout",
     "output_type": "stream",
     "text": [
      "The tensorboard extension is already loaded. To reload it, use:\n",
      "  %reload_ext tensorboard\n"
     ]
    },
    {
     "data": {
      "text/plain": [
       "Reusing TensorBoard on port 6006 (pid 11400), started 0:03:45 ago. (Use '!kill 11400' to kill it.)"
      ]
     },
     "metadata": {},
     "output_type": "display_data"
    },
    {
     "data": {
      "text/html": [
       "\n",
       "      <iframe id=\"tensorboard-frame-b73981d61fa0fd8d\" width=\"100%\" height=\"800\" frameborder=\"0\">\n",
       "      </iframe>\n",
       "      <script>\n",
       "        (function() {\n",
       "          const frame = document.getElementById(\"tensorboard-frame-b73981d61fa0fd8d\");\n",
       "          const url = new URL(\"http://localhost\");\n",
       "          const port = 6006;\n",
       "          if (port) {\n",
       "            url.port = port;\n",
       "          }\n",
       "          frame.src = url;\n",
       "        })();\n",
       "      </script>\n",
       "    "
      ],
      "text/plain": [
       "<IPython.core.display.HTML object>"
      ]
     },
     "metadata": {},
     "output_type": "display_data"
    }
   ],
   "source": [
    "%load_ext tensorboard\n",
    "%tensorboard --logdir /full_path_to_your_log_dir"
   ]
  },
  {
   "cell_type": "markdown",
   "metadata": {},
   "source": [
    "### 7.4 사용자 정의 훈련, 평가 루프 만들기"
   ]
  },
  {
   "cell_type": "markdown",
   "metadata": {},
   "source": [
    "#### 7.4.1 훈련 vs 추론"
   ]
  },
  {
   "cell_type": "code",
   "execution_count": 71,
   "metadata": {},
   "outputs": [],
   "source": [
    "def train_step(inputs, targets):\n",
    "    with tf.GradientTape() as tape:\n",
    "        predictions = model(inputs, training=True)\n",
    "        loss = loss_fn(targets, predictions)\n",
    "    gradients = tape.gradient(loss, model.trainable_weights)\n",
    "    optimizer.apply_gradients(zip(gradients, model.trainable_weights))"
   ]
  },
  {
   "cell_type": "code",
   "execution_count": null,
   "metadata": {},
   "outputs": [],
   "source": []
  }
 ],
 "metadata": {
  "kernelspec": {
   "display_name": "final",
   "language": "python",
   "name": "python3"
  },
  "language_info": {
   "codemirror_mode": {
    "name": "ipython",
    "version": 3
   },
   "file_extension": ".py",
   "mimetype": "text/x-python",
   "name": "python",
   "nbconvert_exporter": "python",
   "pygments_lexer": "ipython3",
   "version": "3.8.19"
  }
 },
 "nbformat": 4,
 "nbformat_minor": 2
}
