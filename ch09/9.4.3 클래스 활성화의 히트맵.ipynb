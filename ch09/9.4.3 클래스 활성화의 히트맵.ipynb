{
 "cells": [
  {
   "cell_type": "code",
   "execution_count": 3,
   "metadata": {},
   "outputs": [],
   "source": [
    "import tensorflow as tf\n",
    "from tensorflow import keras\n",
    "from tensorflow.keras import layers\n",
    "import numpy as np"
   ]
  },
  {
   "cell_type": "code",
   "execution_count": 4,
   "metadata": {},
   "outputs": [],
   "source": [
    "img_path = keras.utils.get_file(\n",
    "    fname=\"elephant.jpg\",\n",
    "    origin=\"https://img-datasets.s3.amazonaws.com/elephant.jpg\")\n",
    "\n",
    "def get_img_array(img_path, target_size):\n",
    "    img = keras.utils.load_img(img_path, target_size=target_size)\n",
    "    array = keras.utils.img_to_array(img)\n",
    "    array = np.expand_dims(array, axis=0)\n",
    "    array = keras.applications.xception.preprocess_input(array)\n",
    "    return array\n",
    "\n",
    "img_array = get_img_array(img_path, target_size=(299, 299))"
   ]
  },
  {
   "cell_type": "code",
   "execution_count": 5,
   "metadata": {},
   "outputs": [
    {
     "name": "stdout",
     "output_type": "stream",
     "text": [
      "Downloading data from https://storage.googleapis.com/tensorflow/keras-applications/xception/xception_weights_tf_dim_ordering_tf_kernels.h5\n",
      "91884032/91884032 [==============================] - 9s 0us/step\n"
     ]
    }
   ],
   "source": [
    "model = keras.applications.xception.Xception(weights=\"imagenet\")"
   ]
  },
  {
   "cell_type": "code",
   "execution_count": 6,
   "metadata": {},
   "outputs": [
    {
     "name": "stdout",
     "output_type": "stream",
     "text": [
      "1/1 [==============================] - 1s 884ms/step\n",
      "Downloading data from https://storage.googleapis.com/download.tensorflow.org/data/imagenet_class_index.json\n",
      "35363/35363 [==============================] - 0s 0us/step\n",
      "[('n02504458', 'African_elephant', 0.86993986), ('n01871265', 'tusker', 0.07695617), ('n02504013', 'Indian_elephant', 0.023541773)]\n"
     ]
    }
   ],
   "source": [
    "preds = model.predict(img_array)\n",
    "print(keras.applications.xception.decode_predictions(preds, top=3)[0])"
   ]
  },
  {
   "cell_type": "code",
   "execution_count": 11,
   "metadata": {},
   "outputs": [
    {
     "data": {
      "text/plain": [
       "(1000, 386, 1.0000001)"
      ]
     },
     "execution_count": 11,
     "metadata": {},
     "output_type": "execute_result"
    }
   ],
   "source": [
    "len(preds[0]), np.argmax(preds[0]), np.sum(preds[0])"
   ]
  },
  {
   "cell_type": "code",
   "execution_count": 12,
   "metadata": {},
   "outputs": [
    {
     "data": {
      "text/plain": [
       "[<keras.engine.input_layer.InputLayer at 0x1ff7de22400>,\n",
       " <keras.layers.convolutional.conv2d.Conv2D at 0x1ff003dfb50>,\n",
       " <keras.layers.normalization.batch_normalization.BatchNormalization at 0x1ff00427250>,\n",
       " <keras.layers.core.activation.Activation at 0x1ff641dae50>,\n",
       " <keras.layers.convolutional.conv2d.Conv2D at 0x1ff47596fa0>,\n",
       " <keras.layers.normalization.batch_normalization.BatchNormalization at 0x1ff475d8790>,\n",
       " <keras.layers.core.activation.Activation at 0x1ff005a7d90>,\n",
       " <keras.layers.convolutional.separable_conv2d.SeparableConv2D at 0x1ff007c4fa0>,\n",
       " <keras.layers.normalization.batch_normalization.BatchNormalization at 0x1ff007c4b50>,\n",
       " <keras.layers.core.activation.Activation at 0x1ff007ceb50>,\n",
       " <keras.layers.convolutional.separable_conv2d.SeparableConv2D at 0x1ff007ce3a0>,\n",
       " <keras.layers.normalization.batch_normalization.BatchNormalization at 0x1ff007ce2b0>,\n",
       " <keras.layers.convolutional.conv2d.Conv2D at 0x1ff007bf700>,\n",
       " <keras.layers.pooling.max_pooling2d.MaxPooling2D at 0x1ff007dd8b0>,\n",
       " <keras.layers.normalization.batch_normalization.BatchNormalization at 0x1ff007bec10>,\n",
       " <keras.layers.merging.add.Add at 0x1ff007cbdf0>,\n",
       " <keras.layers.core.activation.Activation at 0x1ff007e9af0>,\n",
       " <keras.layers.convolutional.separable_conv2d.SeparableConv2D at 0x1ff007e26d0>,\n",
       " <keras.layers.normalization.batch_normalization.BatchNormalization at 0x1ff007dda60>,\n",
       " <keras.layers.core.activation.Activation at 0x1ff007cbe20>,\n",
       " <keras.layers.convolutional.separable_conv2d.SeparableConv2D at 0x1ff003f45e0>,\n",
       " <keras.layers.normalization.batch_normalization.BatchNormalization at 0x1ff003ef280>,\n",
       " <keras.layers.convolutional.conv2d.Conv2D at 0x1ff007e2730>,\n",
       " <keras.layers.pooling.max_pooling2d.MaxPooling2D at 0x1ff007f6f10>,\n",
       " <keras.layers.normalization.batch_normalization.BatchNormalization at 0x1ff007e2790>,\n",
       " <keras.layers.merging.add.Add at 0x1ff007f6340>,\n",
       " <keras.layers.core.activation.Activation at 0x1ff007f96d0>,\n",
       " <keras.layers.convolutional.separable_conv2d.SeparableConv2D at 0x1ff007ff3d0>,\n",
       " <keras.layers.normalization.batch_normalization.BatchNormalization at 0x1ff007faa90>,\n",
       " <keras.layers.core.activation.Activation at 0x1ff0080a520>,\n",
       " <keras.layers.convolutional.separable_conv2d.SeparableConv2D at 0x1ff007ff100>,\n",
       " <keras.layers.normalization.batch_normalization.BatchNormalization at 0x1ff0080ab80>,\n",
       " <keras.layers.convolutional.conv2d.Conv2D at 0x1ff007f9e50>,\n",
       " <keras.layers.pooling.max_pooling2d.MaxPooling2D at 0x1ff0193c910>,\n",
       " <keras.layers.normalization.batch_normalization.BatchNormalization at 0x1ff007f9eb0>,\n",
       " <keras.layers.merging.add.Add at 0x1ff0193c760>,\n",
       " <keras.layers.core.activation.Activation at 0x1ff019457f0>,\n",
       " <keras.layers.convolutional.separable_conv2d.SeparableConv2D at 0x1ff0194b2b0>,\n",
       " <keras.layers.normalization.batch_normalization.BatchNormalization at 0x1ff0194b130>,\n",
       " <keras.layers.core.activation.Activation at 0x1ff0194b3d0>,\n",
       " <keras.layers.convolutional.separable_conv2d.SeparableConv2D at 0x1ff01951e20>,\n",
       " <keras.layers.normalization.batch_normalization.BatchNormalization at 0x1ff0195b850>,\n",
       " <keras.layers.core.activation.Activation at 0x1ff0195bd60>,\n",
       " <keras.layers.convolutional.separable_conv2d.SeparableConv2D at 0x1ff019654c0>,\n",
       " <keras.layers.normalization.batch_normalization.BatchNormalization at 0x1ff01969e20>,\n",
       " <keras.layers.merging.add.Add at 0x1ff019698b0>,\n",
       " <keras.layers.core.activation.Activation at 0x1ff0196fd60>,\n",
       " <keras.layers.convolutional.separable_conv2d.SeparableConv2D at 0x1ff01975be0>,\n",
       " <keras.layers.normalization.batch_normalization.BatchNormalization at 0x1ff0196fa90>,\n",
       " <keras.layers.core.activation.Activation at 0x1ff019755e0>,\n",
       " <keras.layers.convolutional.separable_conv2d.SeparableConv2D at 0x1ff01983a60>,\n",
       " <keras.layers.normalization.batch_normalization.BatchNormalization at 0x1ff01983c70>,\n",
       " <keras.layers.core.activation.Activation at 0x1ff01989a30>,\n",
       " <keras.layers.convolutional.separable_conv2d.SeparableConv2D at 0x1ff0197ad00>,\n",
       " <keras.layers.normalization.batch_normalization.BatchNormalization at 0x1ff0197af10>,\n",
       " <keras.layers.merging.add.Add at 0x1ff01993dc0>,\n",
       " <keras.layers.core.activation.Activation at 0x1ff0199b5b0>,\n",
       " <keras.layers.convolutional.separable_conv2d.SeparableConv2D at 0x1ff0199bbe0>,\n",
       " <keras.layers.normalization.batch_normalization.BatchNormalization at 0x1ff0199bd90>,\n",
       " <keras.layers.core.activation.Activation at 0x1ff01957610>,\n",
       " <keras.layers.convolutional.separable_conv2d.SeparableConv2D at 0x1ff01945bb0>,\n",
       " <keras.layers.normalization.batch_normalization.BatchNormalization at 0x1ff0195bd30>,\n",
       " <keras.layers.core.activation.Activation at 0x1ff007fa040>,\n",
       " <keras.layers.convolutional.separable_conv2d.SeparableConv2D at 0x1ff007f9a00>,\n",
       " <keras.layers.normalization.batch_normalization.BatchNormalization at 0x1ff007f9df0>,\n",
       " <keras.layers.merging.add.Add at 0x1ff019910d0>,\n",
       " <keras.layers.core.activation.Activation at 0x1ff01991970>,\n",
       " <keras.layers.convolutional.separable_conv2d.SeparableConv2D at 0x1ff019ac310>,\n",
       " <keras.layers.normalization.batch_normalization.BatchNormalization at 0x1ff007f2820>,\n",
       " <keras.layers.core.activation.Activation at 0x1ff019ae6a0>,\n",
       " <keras.layers.convolutional.separable_conv2d.SeparableConv2D at 0x1ff019ac2b0>,\n",
       " <keras.layers.normalization.batch_normalization.BatchNormalization at 0x1ff019ae8e0>,\n",
       " <keras.layers.core.activation.Activation at 0x1ff019b17c0>,\n",
       " <keras.layers.convolutional.separable_conv2d.SeparableConv2D at 0x1ff019b8340>,\n",
       " <keras.layers.normalization.batch_normalization.BatchNormalization at 0x1ff019b8190>,\n",
       " <keras.layers.merging.add.Add at 0x1ff019c48e0>,\n",
       " <keras.layers.core.activation.Activation at 0x1ff019c4820>,\n",
       " <keras.layers.convolutional.separable_conv2d.SeparableConv2D at 0x1ff019cba90>,\n",
       " <keras.layers.normalization.batch_normalization.BatchNormalization at 0x1ff019d1c40>,\n",
       " <keras.layers.core.activation.Activation at 0x1ff019cb130>,\n",
       " <keras.layers.convolutional.separable_conv2d.SeparableConv2D at 0x1ff019d5dc0>,\n",
       " <keras.layers.normalization.batch_normalization.BatchNormalization at 0x1ff019c4ca0>,\n",
       " <keras.layers.core.activation.Activation at 0x1ff019e3a00>,\n",
       " <keras.layers.convolutional.separable_conv2d.SeparableConv2D at 0x1ff019d57f0>,\n",
       " <keras.layers.normalization.batch_normalization.BatchNormalization at 0x1ff019d5cd0>,\n",
       " <keras.layers.merging.add.Add at 0x1ff019f0fa0>,\n",
       " <keras.layers.core.activation.Activation at 0x1ff019f8fd0>,\n",
       " <keras.layers.convolutional.separable_conv2d.SeparableConv2D at 0x1ff019ff9d0>,\n",
       " <keras.layers.normalization.batch_normalization.BatchNormalization at 0x1ff019ff5e0>,\n",
       " <keras.layers.core.activation.Activation at 0x1ff019ff250>,\n",
       " <keras.layers.convolutional.separable_conv2d.SeparableConv2D at 0x1ff01a0c340>,\n",
       " <keras.layers.normalization.batch_normalization.BatchNormalization at 0x1ff01a11be0>,\n",
       " <keras.layers.core.activation.Activation at 0x1ff01a11550>,\n",
       " <keras.layers.convolutional.separable_conv2d.SeparableConv2D at 0x1ff01a188e0>,\n",
       " <keras.layers.normalization.batch_normalization.BatchNormalization at 0x1ff01a1eb80>,\n",
       " <keras.layers.merging.add.Add at 0x1ff01a1e640>,\n",
       " <keras.layers.core.activation.Activation at 0x1ff019ff8e0>,\n",
       " <keras.layers.convolutional.separable_conv2d.SeparableConv2D at 0x1ff019d1eb0>,\n",
       " <keras.layers.normalization.batch_normalization.BatchNormalization at 0x1ff019d1f40>,\n",
       " <keras.layers.core.activation.Activation at 0x1ff01a08070>,\n",
       " <keras.layers.convolutional.separable_conv2d.SeparableConv2D at 0x1ff00599040>,\n",
       " <keras.layers.normalization.batch_normalization.BatchNormalization at 0x1ff019ac3a0>,\n",
       " <keras.layers.core.activation.Activation at 0x1ff019be760>,\n",
       " <keras.layers.convolutional.separable_conv2d.SeparableConv2D at 0x1ff01969700>,\n",
       " <keras.layers.normalization.batch_normalization.BatchNormalization at 0x1ff01951730>,\n",
       " <keras.layers.merging.add.Add at 0x1ff01a29700>,\n",
       " <keras.layers.core.activation.Activation at 0x1ff01a2bf10>,\n",
       " <keras.layers.convolutional.separable_conv2d.SeparableConv2D at 0x1ff01a29dc0>,\n",
       " <keras.layers.normalization.batch_normalization.BatchNormalization at 0x1ff019b8c40>,\n",
       " <keras.layers.core.activation.Activation at 0x1ff01a320a0>,\n",
       " <keras.layers.convolutional.separable_conv2d.SeparableConv2D at 0x1ff01a32dc0>,\n",
       " <keras.layers.normalization.batch_normalization.BatchNormalization at 0x1ff01a32070>,\n",
       " <keras.layers.core.activation.Activation at 0x1ff01a38460>,\n",
       " <keras.layers.convolutional.separable_conv2d.SeparableConv2D at 0x1ff01a38ac0>,\n",
       " <keras.layers.normalization.batch_normalization.BatchNormalization at 0x1ff01a38b50>,\n",
       " <keras.layers.merging.add.Add at 0x1ff01a449d0>,\n",
       " <keras.layers.core.activation.Activation at 0x1ff01a561f0>,\n",
       " <keras.layers.convolutional.separable_conv2d.SeparableConv2D at 0x1ff01a56f10>,\n",
       " <keras.layers.normalization.batch_normalization.BatchNormalization at 0x1ff01a561c0>,\n",
       " <keras.layers.core.activation.Activation at 0x1ff01a64be0>,\n",
       " <keras.layers.convolutional.separable_conv2d.SeparableConv2D at 0x1ff01a64e50>,\n",
       " <keras.layers.normalization.batch_normalization.BatchNormalization at 0x1ff01a3fb50>,\n",
       " <keras.layers.convolutional.conv2d.Conv2D at 0x1ff01a44220>,\n",
       " <keras.layers.pooling.max_pooling2d.MaxPooling2D at 0x1ff01a6e790>,\n",
       " <keras.layers.normalization.batch_normalization.BatchNormalization at 0x1ff01a44ac0>,\n",
       " <keras.layers.merging.add.Add at 0x1ff01a52250>,\n",
       " <keras.layers.convolutional.separable_conv2d.SeparableConv2D at 0x1ff01a64040>,\n",
       " <keras.layers.normalization.batch_normalization.BatchNormalization at 0x1ff01a29a00>,\n",
       " <keras.layers.core.activation.Activation at 0x1ff007f6be0>,\n",
       " <keras.layers.convolutional.separable_conv2d.SeparableConv2D at 0x1ff01a83a00>,\n",
       " <keras.layers.normalization.batch_normalization.BatchNormalization at 0x1ff01a69850>,\n",
       " <keras.layers.core.activation.Activation at 0x1ff01a89ac0>,\n",
       " <keras.layers.pooling.global_average_pooling2d.GlobalAveragePooling2D at 0x1ff01a89e20>,\n",
       " <keras.layers.core.dense.Dense at 0x1ff01a77910>]"
      ]
     },
     "execution_count": 12,
     "metadata": {},
     "output_type": "execute_result"
    }
   ],
   "source": [
    "model.layers"
   ]
  },
  {
   "cell_type": "code",
   "execution_count": 13,
   "metadata": {},
   "outputs": [],
   "source": [
    "last_conv_layer_name = \"block14_sepconv2_act\"\n",
    "classifier_layer_names = [\n",
    "    \"avg_pool\",\n",
    "    \"predictions\",\n",
    "]\n",
    "last_conv_layer = model.get_layer(last_conv_layer_name)\n",
    "last_conv_layer_model = keras.Model(model.inputs, last_conv_layer.output)"
   ]
  },
  {
   "cell_type": "code",
   "execution_count": 19,
   "metadata": {},
   "outputs": [
    {
     "data": {
      "text/plain": [
       "TensorShape([10, 10, 2048])"
      ]
     },
     "execution_count": 19,
     "metadata": {},
     "output_type": "execute_result"
    }
   ],
   "source": [
    "last_conv_layer.output.shape[1:]"
   ]
  },
  {
   "cell_type": "code",
   "execution_count": 21,
   "metadata": {},
   "outputs": [
    {
     "name": "stdout",
     "output_type": "stream",
     "text": [
      "avg_pool\n",
      "predictions\n"
     ]
    }
   ],
   "source": [
    "classifier_input = keras.Input(shape=last_conv_layer.output.shape[1:])\n",
    "x = classifier_input\n",
    "for layer_name in classifier_layer_names:\n",
    "    print(layer_name)\n",
    "    x = model.get_layer(layer_name)(x)\n",
    "classifier_model = keras.Model(classifier_input, x)"
   ]
  },
  {
   "cell_type": "code",
   "execution_count": 22,
   "metadata": {},
   "outputs": [],
   "source": [
    "import tensorflow as tf\n",
    "\n",
    "with tf.GradientTape() as tape:\n",
    "    last_conv_layer_output = last_conv_layer_model(img_array)\n",
    "    tape.watch(last_conv_layer_output)\n",
    "    preds = classifier_model(last_conv_layer_output)\n",
    "    top_pred_index = tf.argmax(preds[0])\n",
    "    top_class_channel = preds[:, top_pred_index]\n",
    "\n",
    "grads = tape.gradient(top_class_channel, last_conv_layer_output)"
   ]
  },
  {
   "cell_type": "code",
   "execution_count": 23,
   "metadata": {},
   "outputs": [],
   "source": [
    "pooled_grads = tf.reduce_mean(grads, axis=(0, 1, 2)).numpy()\n",
    "last_conv_layer_output = last_conv_layer_output.numpy()[0]\n",
    "for i in range(pooled_grads.shape[-1]):\n",
    "    last_conv_layer_output[:, :, i] *= pooled_grads[i]\n",
    "heatmap = np.mean(last_conv_layer_output, axis=-1)"
   ]
  },
  {
   "cell_type": "code",
   "execution_count": 24,
   "metadata": {},
   "outputs": [
    {
     "data": {
      "image/png": "[encoded data removed]",
      "text/plain": [
       "<Figure size 480x480 with 1 Axes>"
      ]
     },
     "metadata": {},
     "output_type": "display_data"
    }
   ],
   "source": [
    "import matplotlib.pyplot as plt\n",
    "heatmap = np.maximum(heatmap, 0)\n",
    "heatmap /= np.max(heatmap)\n",
    "plt.matshow(heatmap)\n",
    "plt.show()"
   ]
  },
  {
   "cell_type": "code",
   "execution_count": 25,
   "metadata": {},
   "outputs": [
    {
     "name": "stderr",
     "output_type": "stream",
     "text": [
      "C:\\Users\\G013\\AppData\\Local\\Temp\\ipykernel_12672\\780671328.py:8: MatplotlibDeprecationWarning: The get_cmap function was deprecated in Matplotlib 3.7 and will be removed two minor releases later. Use ``matplotlib.colormaps[name]`` or ``matplotlib.colormaps.get_cmap(obj)`` instead.\n",
      "  jet = cm.get_cmap(\"jet\")\n"
     ]
    }
   ],
   "source": [
    "import matplotlib.cm as cm\n",
    "\n",
    "img = keras.utils.load_img(img_path)\n",
    "img = keras.utils.img_to_array(img)\n",
    "\n",
    "heatmap = np.uint8(255 * heatmap)\n",
    "\n",
    "jet = cm.get_cmap(\"jet\")\n",
    "jet_colors = jet(np.arange(256))[:, :3]\n",
    "jet_heatmap = jet_colors[heatmap]\n",
    "\n",
    "jet_heatmap = keras.utils.array_to_img(jet_heatmap)\n",
    "jet_heatmap = jet_heatmap.resize((img.shape[1], img.shape[0]))\n",
    "jet_heatmap = keras.utils.img_to_array(jet_heatmap)\n",
    "\n",
    "superimposed_img = jet_heatmap * 0.4 + img\n",
    "superimposed_img = keras.utils.array_to_img(superimposed_img)\n",
    "\n",
    "save_path = \"elephant_cam.jpg\"\n",
    "superimposed_img.save(save_path)"
   ]
  }
 ],
 "metadata": {
  "kernelspec": {
   "display_name": "dl-dev",
   "language": "python",
   "name": "python3"
  },
  "language_info": {
   "codemirror_mode": {
    "name": "ipython",
    "version": 3
   },
   "file_extension": ".py",
   "mimetype": "text/x-python",
   "name": "python",
   "nbconvert_exporter": "python",
   "pygments_lexer": "ipython3",
   "version": "3.8.19"
  }
 },
 "nbformat": 4,
 "nbformat_minor": 2
}
